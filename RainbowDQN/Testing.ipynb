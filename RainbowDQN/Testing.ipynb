{
 "cells": [
  {
   "cell_type": "code",
   "execution_count": 1,
   "id": "33cd4988",
   "metadata": {},
   "outputs": [
    {
     "name": "stdout",
     "output_type": "stream",
     "text": [
      "Saved game recording to breakout.gif\n"
     ]
    }
   ],
   "source": [
    "import gymnasium as gym\n",
    "import ale_py\n",
    "import imageio\n",
    "gym.register_envs(ale_py)\n",
    "\n",
    "\n",
    "def record_breakout_game(max_steps=500, output_file=\"breakout.gif\"):\n",
    "    # Create the Breakout environment with rgb_array render mode.\n",
    "    # This mode makes env.render() return an image frame.\n",
    "    env = gym.make(\"Breakout-v4\", render_mode=\"rgb_array\")\n",
    "    \n",
    "    frames = []\n",
    "    observation, info = env.reset()\n",
    "    # Capture the initial frame.\n",
    "    frames.append(env.render())\n",
    "    \n",
    "    done = False\n",
    "    steps = 0\n",
    "    \n",
    "    while not done and steps < max_steps:\n",
    "        # Use a random action for demonstration purposes.\n",
    "        action = env.action_space.sample()\n",
    "        observation, reward, terminated, truncated, info = env.step(action)\n",
    "        done = terminated or truncated\n",
    "        \n",
    "        # Append the current frame.\n",
    "        frames.append(env.render())\n",
    "        steps += 1\n",
    "\n",
    "    env.close()\n",
    "    \n",
    "    # Save all frames as a GIF.\n",
    "    imageio.mimsave(output_file, frames, fps=30)\n",
    "    print(f\"Saved game recording to {output_file}\")\n",
    "\n",
    "if __name__ == \"__main__\":\n",
    "    record_breakout_game()\n"
   ]
  },
  {
   "cell_type": "code",
   "execution_count": null,
   "id": "4825dab8",
   "metadata": {},
   "outputs": [],
   "source": []
  }
 ],
 "metadata": {
  "kernelspec": {
   "display_name": "Python 3",
   "language": "python",
   "name": "python3"
  },
  "language_info": {
   "codemirror_mode": {
    "name": "ipython",
    "version": 3
   },
   "file_extension": ".py",
   "mimetype": "text/x-python",
   "name": "python",
   "nbconvert_exporter": "python",
   "pygments_lexer": "ipython3",
   "version": "3.11.9"
  }
 },
 "nbformat": 4,
 "nbformat_minor": 5
}
